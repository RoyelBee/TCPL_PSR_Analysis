{
 "cells": [
  {
   "cell_type": "code",
   "execution_count": 3,
   "metadata": {},
   "outputs": [],
   "source": [
    "import pyodbc as db \n",
    "import pandas as pd \n",
    "\n",
    "conn = db.connect('DRIVER={SQL Server};'\n",
    "                      'SERVER=10.168.2.168;'\n",
    "                      'DATABASE=TCPL_SECONDARY;'\n",
    "                      'UID=sa;'\n",
    "                      'PWD=erp;')\n",
    "sku_df = pd.read_sql_query(\"\"\" \n",
    "                DECLARE @date date = GETDATE(); \n",
    "                declare @current_day int = right(convert(varchar(8),getdate(), 112), 2)\n",
    "                \n",
    "                select srItnameTarget.srname,srItnameTarget.Item, srItnameTarget.skuname,\n",
    "                [Months Target(Tk)], \n",
    "                [MTD Target(Tk)], \n",
    "                isnull([MTD Sales(Tk)], 0) as [MTD Sales(Tk)],\n",
    "                --(isnull([Months Sales(Tk)], 0)/[MTD Target(Tk)]) as 'achiv %',\n",
    "                [Months Target(Kg)],\n",
    "                [MTD Target(Kg)], \n",
    "                [MTD Sales(Kg)]\n",
    "                 from\n",
    "                (select targetsr.srid,srname,sku.skuid as Item, sku.ShortName as skuname,sum(TargetValue) as [Months Target(Tk)],\n",
    "                cast((sum(TargetValue) /  cast(DAY(EOMONTH ( @date )) as int)) * @current_day as int) as [MTD Target(Tk)],\n",
    "                sum(TargetQty*Weight)/1000 as [Months Target(Kg)], \n",
    "                cast((((sum(TargetQty*Weight)/1000)/ cast(DAY(EOMONTH ( @date )) as int)) * @current_day) as int) as [MTD Target(Kg)]\n",
    "                 from \n",
    "                (Select * from TargetDistributionItemBySR where yearmonth = convert(varchar(6),DATEADD(D,0,GETDATE()),112) and srid=22) as targetsr\n",
    "                left join \n",
    "                (select * from Hierarchy_Emp) as emp\n",
    "                on targetsr.srid=emp.SRID\n",
    "                left join \n",
    "                (select * from Hierarchy_SKU) as Sku\n",
    "                on sku.SKUID=targetsr.SKUID\n",
    "                group by srname,sku.skuid,shortname, targetsr.srid\n",
    "                ) as srItnameTarget\n",
    "                right join \n",
    "                (select salesitem.SRID,srname,sku.skuid as Item,isnull(sum((Quantity-FreeQty)*InvoicePrice), 0) as [MTD Sales(Tk)],\n",
    "                isnull(sum((Quantity-FreeQty)*Weight)/1000, 0) as [MTD Sales(Kg)] from \n",
    "                (selecT Item.*,Srid from \n",
    "                (select * from SalesInvoices where InvoiceDate between convert(varchar(10),DATEADD(mm, DATEDIFF(mm, 0, GETDATE()), 0),126)\n",
    "                and convert(varchar(10),DATEADD(D,0,GETDATE()),126) and srid=22) as Sale\n",
    "                inner join \n",
    "                (select * from SalesInvoiceItem) as Item\n",
    "                on sale.InvoiceID=item.InvoiceID) as salesitem\n",
    "                left join \n",
    "                (select * from Hierarchy_Emp) as emp\n",
    "                on salesitem.srid=emp.SRID\n",
    "                left join \n",
    "                (select * from Hierarchy_SKU) as Sku\n",
    "                on sku.SKUID=salesitem.SKUID\n",
    "                group by srname,sku.skuid,salesitem.SRID) as srItnamesale\n",
    "                on srItnameTarget.srid=srItnamesale.srid\n",
    "                and srItnameTarget.Item=srItnamesale.Item \"\"\", conn)\n"
   ]
  },
  {
   "cell_type": "code",
   "execution_count": 4,
   "metadata": {},
   "outputs": [
    {
     "data": {
      "text/plain": [
       "Index(['srname', 'Item', 'skuname', 'Months Target(Tk)', 'MTD Target(Tk)',\n",
       "       'MTD Sales(Tk)', 'Months Target(Kg)', 'MTD Target(Kg)',\n",
       "       'MTD Sales(Kg)'],\n",
       "      dtype='object')"
      ]
     },
     "execution_count": 4,
     "metadata": {},
     "output_type": "execute_result"
    }
   ],
   "source": [
    "sku_df.columns"
   ]
  },
  {
   "cell_type": "code",
   "execution_count": 23,
   "metadata": {},
   "outputs": [],
   "source": []
  },
  {
   "cell_type": "code",
   "execution_count": 25,
   "metadata": {},
   "outputs": [],
   "source": [
    "sku_df.to_excel('./Data/sku_wise_target_sales.xlsx', index=False)"
   ]
  },
  {
   "cell_type": "code",
   "execution_count": null,
   "metadata": {},
   "outputs": [],
   "source": []
  }
 ],
 "metadata": {
  "kernelspec": {
   "display_name": "Python 3",
   "language": "python",
   "name": "python3"
  },
  "language_info": {
   "codemirror_mode": {
    "name": "ipython",
    "version": 3
   },
   "file_extension": ".py",
   "mimetype": "text/x-python",
   "name": "python",
   "nbconvert_exporter": "python",
   "pygments_lexer": "ipython3",
   "version": "3.8.3"
  }
 },
 "nbformat": 4,
 "nbformat_minor": 1
}